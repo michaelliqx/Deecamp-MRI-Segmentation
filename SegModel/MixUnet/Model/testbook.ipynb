{
 "cells": [
  {
   "cell_type": "code",
   "execution_count": 1,
   "metadata": {
    "collapsed": true
   },
   "outputs": [],
   "source": [
    "import SimpleITK as sitk\n",
    "import os\n"
   ]
  },
  {
   "cell_type": "code",
   "execution_count": 29,
   "metadata": {},
   "outputs": [],
   "source": [
    "\n",
    "def data_loader(image_path):\n",
    "    image_dir_path = os.path.dirname(image_path)\n",
    "    print(image_dir_path)\n",
    "    \n",
    "    image_dir_path = \"Data/BraTS19_2013_2_1/BraTS19_2013_2_1\"\n",
    "    \n",
    "    image_list = [os.path.join(image_dir_path + '_' + i + '.nii.gz')\n",
    "                  for i in ['t1', 't1ce', 't2', 'flair']]\n",
    "    print(image_list)\n",
    "    \n",
    "    image_seg = sitk.ReadImage(os.path.join(image_dir_path + '_seg.nii.gz'))\n",
    "    label = sitk.GetArrayViewFromImage(image_seg)\n",
    "    for i in range(1, image_list[0].shape[0] - 1):\n",
    "        if np.sum(label[i]) == 0:\n",
    "            continue\n",
    "        else:\n",
    "            slice_fuction = lambda x: x[i - 1:i + 2].transpose(1, 2, 0)\n",
    "            image_slice_list = [slice_fuction(image) for image in image_list]\n",
    "            image_array = np.concatenate(image_slice_list, axis=-1).astype(np.float32)\n",
    "\n",
    "            label_slice_list = [(label[i] == pix).astype(int) for pix in [1, 2, 4]]\n",
    "            label_2 = label_slice_list[1][:, :, np.newaxis]\n",
    "            label2_array = np.concatenate([label_2, (label_2 == 0)], axis=-1).astype(np.int8)\n",
    "\n",
    "            train_data_list.append(image_array)\n",
    "            train_label_list.append(label2_array)\n",
    "\n",
    "            ### 保存数据为h5或png格式\n",
    "            # hf = h5py.File('./test/{}_{}.h5'.format(image_dir_path,str(i)), 'w')\n",
    "            # hf['data'] = image_array  # 将数据写入文件的主键data下面\n",
    "            # hf['labels'] = label2_array\n",
    "            # hf.close()\n",
    "            # for n, m in enumerate(['t1', 't1ce', 't2', 'flair']):\n",
    "            #     cv2.imwrite('./test/{}/{}_{}_{}.png'.format(image_dir_path,image_dir_path,m,str(i)),image_slice_list[n])\n",
    "            # for n,pix in enumerate([1,2,4]):\n",
    "            #     cv2.imwrite('./test/{}/{}_label{}_{}.png'.format(image_dir_path,image_dir_path,str(pix),str(i)), label_slice_list[n])\n"
   ]
  },
  {
   "cell_type": "code",
   "execution_count": 30,
   "metadata": {},
   "outputs": [
    {
     "name": "stdout",
     "output_type": "stream",
     "text": [
      "/Users/michaelliqx/Desktop/deecamp/Group5/Deecamp-MRI-Segmentation\nData/BraTS19_2013_2_1\n/Users/michaelliqx/Desktop/deecamp/Group5/Deecamp-MRI-Segmentation/Data/BraTS19_2013_2_1\nData\n['Data/BraTS19_2013_2_1/BraTS19_2013_2_1_t1.nii.gz', 'Data/BraTS19_2013_2_1/BraTS19_2013_2_1_t1ce.nii.gz', 'Data/BraTS19_2013_2_1/BraTS19_2013_2_1_t2.nii.gz', 'Data/BraTS19_2013_2_1/BraTS19_2013_2_1_flair.nii.gz']\n"
     ]
    },
    {
     "ename": "AttributeError",
     "evalue": "'str' object has no attribute 'shape'",
     "traceback": [
      "\u001b[0;31m---------------------------------------------------------------------------\u001b[0m",
      "\u001b[0;31mAttributeError\u001b[0m                            Traceback (most recent call last)",
      "\u001b[0;32m<ipython-input-30-d7a012873b7b>\u001b[0m in \u001b[0;36m<module>\u001b[0;34m()\u001b[0m\n\u001b[1;32m     13\u001b[0m     \u001b[0mfinal_path\u001b[0m \u001b[0;34m=\u001b[0m \u001b[0mimage_path\u001b[0m \u001b[0;34m+\u001b[0m \u001b[0;34m\"/\"\u001b[0m \u001b[0;34m+\u001b[0m \u001b[0mnew_path\u001b[0m\u001b[0;34m\u001b[0m\u001b[0m\n\u001b[1;32m     14\u001b[0m     \u001b[0mprint\u001b[0m\u001b[0;34m(\u001b[0m\u001b[0mfinal_path\u001b[0m\u001b[0;34m)\u001b[0m\u001b[0;34m\u001b[0m\u001b[0m\n\u001b[0;32m---> 15\u001b[0;31m     \u001b[0mdata_loader\u001b[0m\u001b[0;34m(\u001b[0m\u001b[0mnew_path\u001b[0m\u001b[0;34m)\u001b[0m\u001b[0;34m\u001b[0m\u001b[0m\n\u001b[0m\u001b[1;32m     16\u001b[0m     print('\\rhgg_data_process:【{}/{}】 data:{} train_data_len:{}'.format(str(i + 1), str(total), path,\n\u001b[1;32m     17\u001b[0m                                                                         len(train_data_list)), end='')\n",
      "\u001b[0;32m<ipython-input-29-a035d3798f45>\u001b[0m in \u001b[0;36mdata_loader\u001b[0;34m(image_path)\u001b[0m\n\u001b[1;32m     11\u001b[0m     \u001b[0mimage_seg\u001b[0m \u001b[0;34m=\u001b[0m \u001b[0msitk\u001b[0m\u001b[0;34m.\u001b[0m\u001b[0mReadImage\u001b[0m\u001b[0;34m(\u001b[0m\u001b[0mos\u001b[0m\u001b[0;34m.\u001b[0m\u001b[0mpath\u001b[0m\u001b[0;34m.\u001b[0m\u001b[0mjoin\u001b[0m\u001b[0;34m(\u001b[0m\u001b[0mimage_dir_path\u001b[0m \u001b[0;34m+\u001b[0m \u001b[0;34m'_seg.nii.gz'\u001b[0m\u001b[0;34m)\u001b[0m\u001b[0;34m)\u001b[0m\u001b[0;34m\u001b[0m\u001b[0m\n\u001b[1;32m     12\u001b[0m     \u001b[0mlabel\u001b[0m \u001b[0;34m=\u001b[0m \u001b[0msitk\u001b[0m\u001b[0;34m.\u001b[0m\u001b[0mGetArrayViewFromImage\u001b[0m\u001b[0;34m(\u001b[0m\u001b[0mimage_seg\u001b[0m\u001b[0;34m)\u001b[0m\u001b[0;34m\u001b[0m\u001b[0m\n\u001b[0;32m---> 13\u001b[0;31m     \u001b[0;32mfor\u001b[0m \u001b[0mi\u001b[0m \u001b[0;32min\u001b[0m \u001b[0mrange\u001b[0m\u001b[0;34m(\u001b[0m\u001b[0;36m1\u001b[0m\u001b[0;34m,\u001b[0m \u001b[0mimage_list\u001b[0m\u001b[0;34m[\u001b[0m\u001b[0;36m0\u001b[0m\u001b[0;34m]\u001b[0m\u001b[0;34m.\u001b[0m\u001b[0mshape\u001b[0m\u001b[0;34m[\u001b[0m\u001b[0;36m0\u001b[0m\u001b[0;34m]\u001b[0m \u001b[0;34m-\u001b[0m \u001b[0;36m1\u001b[0m\u001b[0;34m)\u001b[0m\u001b[0;34m:\u001b[0m\u001b[0;34m\u001b[0m\u001b[0m\n\u001b[0m\u001b[1;32m     14\u001b[0m         \u001b[0;32mif\u001b[0m \u001b[0mnp\u001b[0m\u001b[0;34m.\u001b[0m\u001b[0msum\u001b[0m\u001b[0;34m(\u001b[0m\u001b[0mlabel\u001b[0m\u001b[0;34m[\u001b[0m\u001b[0mi\u001b[0m\u001b[0;34m]\u001b[0m\u001b[0;34m)\u001b[0m \u001b[0;34m==\u001b[0m \u001b[0;36m0\u001b[0m\u001b[0;34m:\u001b[0m\u001b[0;34m\u001b[0m\u001b[0m\n\u001b[1;32m     15\u001b[0m             \u001b[0;32mcontinue\u001b[0m\u001b[0;34m\u001b[0m\u001b[0m\n",
      "\u001b[0;31mAttributeError\u001b[0m: 'str' object has no attribute 'shape'"
     ],
     "output_type": "error"
    }
   ],
   "source": [
    "    hgg_path_list = os.listdir('Data')\n",
    "    # lgg_path_list = os.listdir('/data/data/data_2019/MICCAI_BraTS_2019_Data_Training/LGG')\n",
    "    train_data_list = []\n",
    "    train_label_list = []\n",
    "\n",
    "    total = len(hgg_path_list[:5])\n",
    "    for i, path in enumerate(hgg_path_list[:5]):\n",
    "        \n",
    "        image_path = os.getcwd()\n",
    "        print(image_path)\n",
    "        new_path = os.path.join('Data', path)\n",
    "        print(new_path)\n",
    "        final_path = image_path + \"/\" + new_path\n",
    "        print(final_path)\n",
    "        data_loader(new_path)\n",
    "        print('\\rhgg_data_process:【{}/{}】 data:{} train_data_len:{}'.format(str(i + 1), str(total), path,\n",
    "                                                                            len(train_data_list)), end='')\n",
    "\n",
    "    train_data_array = np.array(train_data_list).astype(np.float32)\n",
    "    train_label_array = np.array(train_label_list).astype(np.int8)\n",
    "    print(train_data_array.shape)\n",
    "    print(train_label_array.shape)\n",
    "    print(train_data_array.dtype)\n",
    "    print(train_label_array.dtype)"
   ]
  },
  {
   "cell_type": "code",
   "execution_count": null,
   "metadata": {},
   "outputs": [],
   "source": []
  }
 ],
 "metadata": {
  "kernelspec": {
   "display_name": "Python 2",
   "language": "python",
   "name": "python2"
  },
  "language_info": {
   "codemirror_mode": {
    "name": "ipython",
    "version": 2
   },
   "file_extension": ".py",
   "mimetype": "text/x-python",
   "name": "python",
   "nbconvert_exporter": "python",
   "pygments_lexer": "ipython2",
   "version": "2.7.6"
  }
 },
 "nbformat": 4,
 "nbformat_minor": 0
}
